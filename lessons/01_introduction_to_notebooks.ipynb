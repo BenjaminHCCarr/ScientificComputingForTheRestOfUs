{
  "cells": [
    {
      "cell_type": "markdown",
      "metadata": {},
      "source": [
        "# Code is good, and good reproducible code is better!\n",
        "\n",
        "In this first lesson, we will see how we can use *notebooks* to write code and give it context with some text, examine the results, and then export it. It can help to think of a computational notebook as an actual, paper-based notebook. You write a bit of text, then an equation, then you solve this equation, and then write some more text. A notebook does this too, but you can re-execute any part at any moment.\n",
        "\n",
        "Let's dig in. Just below this text is a *cell*: you can clik in it, then click on *Cell > Run cell* in the top menu (or use the keyboard shortcut `Ctrl`+`Enter` to run it). Let's try!\n"
      ]
    },
    {
      "cell_type": "code",
      "execution_count": null,
      "metadata": {},
      "outputs": [],
      "source": [
        "2+1"
      ]
    },
    {
      "cell_type": "markdown",
      "metadata": {},
      "source": [
        "A few things happenned. Before running it, the cell contained:\n",
        "\n",
        "~~~\n",
        "In [ ]: 2+1\n",
        "~~~\n",
        "\n",
        "But after running it, it changed to:\n",
        "\n",
        "~~~\n",
        "In [1]: 2+1\n",
        "Out[1]: 3\n",
        "~~~\n",
        "\n",
        "Note that the number in brackets may vary - we will discuss why very soon. The new line (starting with `Out[1]:`) means that the cell was succesfully *executed* by the notebook: something behind the scenes (called a *kernel*) took the code, ran it, and then gave you the input. Notebooks let you see the output of a command immediately after writing it!\n",
        "\n",
        "The most important unit in a notebook is the *cell*: some cells (like this one!) contain text, and the others contain code, that will be executed, and generate a *result* (it can be text, a table, or a figure).\n",
        "\n",
        "We can write instructions that are as long as we want in a cell. Let's try to run this one:"
      ]
    },
    {
      "cell_type": "code",
      "execution_count": null,
      "metadata": {},
      "outputs": [],
      "source": [
        "i = 2\n",
        "i"
      ]
    },
    {
      "cell_type": "markdown",
      "metadata": {},
      "source": [
        "Notice the number after `In` and `Out`? This conveys an information about the *state*: it lets you know when the cell was last ran. Compare the number of this cell, to the one from the very first cell. It should be greater: we executed this cell more recently than the previous one. \n",
        "\n",
        "Go back to the very first cell in the lesson. Before you execute it, what do you think will happen? Now run it - what did happen?"
      ]
    }
  ],
  "metadata": {
    "kernelspec": {
      "display_name": "Julia 0.6.0",
      "language": "julia",
      "name": "julia-0.6"
    },
    "language_info": {
      "file_extension": ".jl",
      "mimetype": "application/julia",
      "name": "julia",
      "version": "0.6.0"
    }
  },
  "nbformat": 4,
  "nbformat_minor": 2
}
