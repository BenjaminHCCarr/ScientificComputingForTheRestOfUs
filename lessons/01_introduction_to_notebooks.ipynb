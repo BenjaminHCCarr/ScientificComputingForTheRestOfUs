{
  "cells": [
    {
      "cell_type": "markdown",
      "metadata": {},
      "source": [
        "# Code is good, and good reproducible code is better!\n",
        "\n",
        "In this first lesson, we will see how we can use *notebooks* to write code and give it context with some text, examine the results, and then export it. It can help to think of a computational notebook as an actual, paper-based notebook. You write a bit of text, then an equation, then you solve this equation, and then write some more text. A notebook does this too, but you can re-execute any part at any moment.\n",
        "\n",
        "See the [discussions on this lesson on github][l1issues].\n",
        "[l1issues]: https://github.com/tpoisot/IntroScientificComputing/labels/lesson%3A1"
      ]
    },
    {
      "cell_type": "markdown",
      "metadata": {},
      "source": [
        "## What to expect after reading this lesson\n",
        "\n",
        "- Understanding of the key concepts of a notebook\n",
        "- Understanding the order of execution\n",
        "- Using checkpoints\n",
        "- Exporting the notebook\n",
        "- Closing the notebook and halting/restarting the kernel"
      ]
    },
    {
      "cell_type": "markdown",
      "metadata": {},
      "source": [
        "## Core notebook concepts\n",
        "\n",
        "Let's dig in. Just below this text is a *cell*: you can clik in it, then click on *Cell > Run cell* in the top menu (or use the keyboard shortcut `Ctrl`+`Enter` to run it). Let's try!"
      ]
    },
    {
      "cell_type": "code",
      "execution_count": null,
      "metadata": {},
      "outputs": [],
      "source": [
        "2+1"
      ]
    },
    {
      "cell_type": "markdown",
      "metadata": {},
      "source": [
        "A few things happenned. Before running it, the cell contained:\n",
        "\n",
        "~~~\n",
        "In [ ]: 2+1\n",
        "~~~\n",
        "\n",
        "But after running it, it changed to:\n",
        "\n",
        "~~~\n",
        "In [1]: 2+1\n",
        "Out[1]: 3\n",
        "~~~\n",
        "\n",
        "Note that the number in brackets may vary - we will discuss why very soon. The new line (starting with `Out[1]:`) means that the cell was succesfully *executed* by the notebook: something behind the scenes (called a *kernel*) took the code, ran it, and then gave you the input. Notebooks let you see the output of a command immediately after writing it!\n",
        "\n",
        "The most important unit in a notebook is the *cell*: some cells (like this one!) contain text, and the others contain code, that will be executed, and generate a *result* (it can be text, a table, or a figure).\n",
        "\n",
        "We can write instructions that are as long as we want in a cell. Let's try to run this one:"
      ]
    },
    {
      "cell_type": "code",
      "execution_count": null,
      "metadata": {},
      "outputs": [],
      "source": [
        "i = 2\n",
        "i"
      ]
    },
    {
      "cell_type": "markdown",
      "metadata": {},
      "source": [
        "Notice the number after `In` and `Out`? This conveys an information about the *state*: it lets you know when the cell was last ran. Compare the number of this cell, to the one from the very first cell. It should be greater: we executed this cell more recently than the previous one. \n",
        "\n",
        "Go back to the very first cell in the lesson. Before you execute it, what do you think will happen? Now run it - what did happen?"
      ]
    },
    {
      "cell_type": "markdown",
      "metadata": {},
      "source": [
        "## Understanding the order of execution\n",
        "\n",
        "One peculiar behavior of notebooks is that the variables are shared between all cells. The cell immediately below has only\n",
        "\n",
        "    In [ ]: i\n",
        "\n",
        "in it. If you run it, what do you think will happen?"
      ]
    },
    {
      "cell_type": "code",
      "execution_count": null,
      "metadata": {},
      "outputs": [],
      "source": [
        "i"
      ]
    },
    {
      "cell_type": "markdown",
      "metadata": {},
      "source": [
        "It turned into\n",
        "\n",
        "    In [3]: i\n",
        "    Out[3]: 2\n",
        "    \n",
        "This is because in the previous cell, we assigned the value `2` to the variable `i`, and this variable can be accessed by any cell. It means that the *order* in which cells are executed is very important. Notebooks are designed to be executed in a linear way, from the top to the bottom. This is why the number in brackest, right next to `In` or `Out`, is so important. Good notebook hygiene means that the numbers will start at 1 (at the top), and then increase from here."
      ]
    },
    {
      "cell_type": "markdown",
      "metadata": {},
      "source": [
        "## Back to square one\n",
        "\n",
        "Thankfully, it is possible to *reset* a notebook, to start again with a blank slate.\n",
        "\n",
        "The first way to do so is through the menu in *Cells > All output > Clear*. This will remove all states, but will not reset the counter at 1. This is because the counter tracks the number of operations since the *kernel* was started.\n",
        "\n",
        "The other way is to restart the kernel. This is done through the menu, in *Kernel > Restart & Clear output* (will give you the notebook as it was when you started), or *Kernel > Restart & Run all* (will restart, and then execute the content of all the cells in order)."
      ]
    },
    {
      "cell_type": "markdown",
      "metadata": {},
      "source": [
        "## Checkpoints\n",
        "\n",
        "One final important point about notebooks is the notion of *checkpoints*. A checkpoint is a temporary copy of your notebook *and* its state. You can create a checkpoint through the *File > Save and Checkpoint* menu, or by clicking the floppy disk icon.\n",
        "\n",
        "Checkpoints let you experiment a little bit, as you can *restore* your work to the previous checkpoint. This is done with the *File > Restore to checkpoint* menu, which will give the option to return to the last checkpoint. A good practice is to checkpoint before you try something, and go back to the checkpoint when this thing is not working. When it finally works (don't give up, it will eventually!), you can create a new checkpoint. Note that checkpoints are *temporary* -- they are not preserved between sessions."
      ]
    },
    {
      "cell_type": "markdown",
      "metadata": {},
      "source": [
        "## Saving your work and quitting\n",
        "\n",
        "By default, the notebook will save the output of all cells that have been executed. You may want to export this into another format. The *File > Download as* menu has different options. The `markdown` and `html` format are guaranteed to work. If you have `pandoc` installed (which may be the case if you use *RStudio*, you can also create a PDF.\n",
        "\n",
        "Once you are done working on a notebook, you can use the *File > Close and Halt* menu. This will stop the kernel from running, and close the notebook."
      ]
    }
  ],
  "metadata": {
    "kernelspec": {
      "display_name": "Julia 0.6.0",
      "language": "julia",
      "name": "julia-0.6"
    },
    "language_info": {
      "file_extension": ".jl",
      "mimetype": "application/julia",
      "name": "julia",
      "version": "0.6.0"
    }
  },
  "nbformat": 4,
  "nbformat_minor": 2
}
