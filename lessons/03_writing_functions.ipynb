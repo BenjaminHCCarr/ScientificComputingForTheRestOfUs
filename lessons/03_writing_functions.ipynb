{
  "cells": [
    {
      "cell_type": "markdown",
      "metadata": {},
      "source": [
        "So far, we wrote our code \"as we went\". But to really step up our game, we need to look into *functions*. It is useful to think of computer functions as mathematic functions."
      ]
    },
    {
      "cell_type": "markdown",
      "metadata": {},
      "source": [
        "Let's start with a simple example. We will write a function to simulate tossing a coin -- but this time, the coin can be biased. We want our function to have a few specificities in the way it behaves. First, we will assume that `true` means head. Second, we will assume that the bias measures the extent to which the coin will give tails. An unbiased coin will have a bias value of *0.5*: it has equal chance of resulting in tails or heads."
      ]
    },
    {
      "cell_type": "code",
      "execution_count": null,
      "metadata": {},
      "outputs": [],
      "source": [
        "function coin_toss(bias::Float64=0.5)\n",
        "    return rand() < bias\n",
        "end"
      ]
    }
  ],
  "metadata": {
    "kernelspec": {
      "display_name": "Julia 0.6.0",
      "language": "julia",
      "name": "julia-0.6"
    },
    "language_info": {
      "file_extension": ".jl",
      "mimetype": "application/julia",
      "name": "julia",
      "version": "0.6.0"
    }
  },
  "nbformat": 4,
  "nbformat_minor": 2
}
