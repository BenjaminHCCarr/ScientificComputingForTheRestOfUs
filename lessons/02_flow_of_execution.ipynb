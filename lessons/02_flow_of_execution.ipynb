{
  "cells": [
    {
      "cell_type": "markdown",
      "metadata": {},
      "source": [
        "# Programming really *is* a language\n",
        "\n",
        "But if you understand just three words, you will be able to hold a good conversation with your computer!\n",
        "\n",
        "One great way to make your code robust is to keep it very simple, and one great way to keep your code very simple is to recognize that often, we want to do one of three things:\n",
        "\n",
        "- do one thing if something happens (`if`)\n",
        "- do one thing to a series of things (`for`)\n",
        "- do one thing until something happens (`while`)\n",
        "\n",
        "These three possibilities define what we call the *control flow*, or the *flow of execution*.\n",
        "\n",
        "See the [discussions on this lesson on github][l2issues].\n",
        "[l2issues]: https://github.com/tpoisot/IntroScientificComputing/labels/lesson%3A2"
      ]
    },
    {
      "cell_type": "markdown",
      "metadata": {},
      "source": [
        "## What to expect after reading this lesson\n",
        "\n",
        "- TODO"
      ]
    },
    {
      "cell_type": "markdown",
      "metadata": {},
      "source": [
        "## Tossing coins and planning trips"
      ]
    },
    {
      "cell_type": "markdown",
      "metadata": {},
      "source": [
        "Let's imagine a situation where we have a coin, and we can toss this coin. One output of this observation is whether the coin landed on its head, or on its tail. We can express the outcome of coin toss as a *statement*: \"it is true that the coin landed on its head\", or \"it is not true that the coin landed on its head\".\n",
        "\n",
        "This is not how we would think about the outcome as humans. It would be more natural to say \"head\" or \"tail\". But expressing things as *true* or not true (which we call *false*) is much more easier for computers to understand. A great deal of programming is finding out ways to reduce the outcomes to *true*/*false* statements."
      ]
    },
    {
      "cell_type": "markdown",
      "metadata": {},
      "source": [
        "In fact, there is a name for this type of data: Boolean. In the Boolean world, things are either *true*, or *false*, and we decide accordingly. We think in Boolean terms without noticing it very often! For example, when wondering if it is faster to go to work by bus, or by bike, we are expressing in our own way the question of \"going to work by bus is faster than by bike, true or false?\".\n",
        "\n",
        "And then, we will of course take a decision based on the outcome of this question. \"If it is faster to go by bike, then I will go by bus\".\n",
        "\n",
        "Have you noticed that the word *if* appeared a lot in the past few sentences? It is because `if` is the first way to control the flow of execution. It is one of the words that many programming languages already know (we call these *keywords*), and it lets us decide what to do when confronted with alternative choices.\n",
        "\n",
        "Let's say I am sitting in my office, and I need to attend a meeting on the other side of campus. After looking at the itinerary, I can either bike (4 minutes) or walk (13 minutes). To decide what to do, I can ask the following question to my computer:\n",
        "\n",
        "~~~\n",
        "walking takes 13 minutes\n",
        "biking takes 4 minutes\n",
        "if (walking is faster than biking)\n",
        "    tell me to walk\n",
        "~~~\n",
        "\n",
        "This block above is called *pseudocode*. It is a way to start expressing our ideas in a language we can understand, but that resembles what the computer speaks. We will write quite a lot of it.\n",
        "\n",
        "Now, let's give this a try - before you do, what do you think will happen?"
      ]
    },
    {
      "cell_type": "code",
      "execution_count": null,
      "metadata": {},
      "outputs": [],
      "source": [
        "time_by_foot = 13\n",
        "time_by_bike = 4\n",
        "if time_by_foot < time_by_bike\n",
        "    println(\"You should walk\")\n",
        "end"
      ]
    },
    {
      "cell_type": "markdown",
      "metadata": {},
      "source": [
        "Uh, weird! Nothing happened.\n",
        "\n",
        "Let's think about why. We asked the computer to compare the time by foot and the time by bike; if the time by foot is shorter, then we print a line (`println`) telling us to walk. But we know that the time by foot is *not* shorter, and so does the computer; because we have not been explicit, nothing is done.\n",
        "\n",
        "To decide between two things to do, we need to use `if`'s frequent patner: `else`. Let's try again:"
      ]
    },
    {
      "cell_type": "code",
      "execution_count": null,
      "metadata": {},
      "outputs": [],
      "source": [
        "time_by_foot = 13\n",
        "time_by_bike = 4\n",
        "if time_by_foot < time_by_bike\n",
        "    println(\"You should walk\")\n",
        "else\n",
        "    println(\"You should bike\")\n",
        "end"
      ]
    },
    {
      "cell_type": "markdown",
      "metadata": {},
      "source": [
        "This time, we get the right output: `You should bike`."
      ]
    }
  ],
  "metadata": {
    "kernelspec": {
      "display_name": "Julia 0.6.0",
      "language": "julia",
      "name": "julia-0.6"
    },
    "language_info": {
      "file_extension": ".jl",
      "mimetype": "application/julia",
      "name": "julia",
      "version": "0.6.0"
    }
  },
  "nbformat": 4,
  "nbformat_minor": 2
}
